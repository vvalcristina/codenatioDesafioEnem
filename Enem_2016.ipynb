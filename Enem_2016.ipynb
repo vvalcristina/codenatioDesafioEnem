{
  "nbformat": 4,
  "nbformat_minor": 0,
  "metadata": {
    "colab": {
      "name": "Enem_2016.ipynb",
      "provenance": [],
      "toc_visible": true,
      "authorship_tag": "ABX9TyNaM3CgrZVbQgmJJO6ldMI9",
      "include_colab_link": true
    },
    "kernelspec": {
      "name": "python3",
      "display_name": "Python 3"
    }
  },
  "cells": [
    {
      "cell_type": "markdown",
      "metadata": {
        "id": "view-in-github",
        "colab_type": "text"
      },
      "source": [
        "<a href=\"https://colab.research.google.com/github/vvalcristina/codenatioDesafioEnem/blob/master/Enem_2016.ipynb\" target=\"_parent\"><img src=\"https://colab.research.google.com/assets/colab-badge.svg\" alt=\"Open In Colab\"/></a>"
      ]
    },
    {
      "cell_type": "code",
      "metadata": {
        "id": "z2DhxnxifdpI",
        "colab_type": "code",
        "colab": {}
      },
      "source": [
        "import pandas as pd"
      ],
      "execution_count": 0,
      "outputs": []
    },
    {
      "cell_type": "code",
      "metadata": {
        "id": "rzsR1JNfe__o",
        "colab_type": "code",
        "colab": {}
      },
      "source": [
        "import numpy as np"
      ],
      "execution_count": 0,
      "outputs": []
    },
    {
      "cell_type": "code",
      "metadata": {
        "id": "GqsYf7FkflD-",
        "colab_type": "code",
        "colab": {}
      },
      "source": [
        "from sklearn import metrics"
      ],
      "execution_count": 0,
      "outputs": []
    },
    {
      "cell_type": "code",
      "metadata": {
        "id": "07JQJP42fspF",
        "colab_type": "code",
        "colab": {}
      },
      "source": [
        "train = pd.read_csv('train.csv', sep=\",\", encoding=\"UTF8\")"
      ],
      "execution_count": 0,
      "outputs": []
    },
    {
      "cell_type": "code",
      "metadata": {
        "id": "MBwqc7LHh2nb",
        "colab_type": "code",
        "colab": {}
      },
      "source": [
        "test = pd.read_csv('test.csv',sep=\",\", encoding=\"UTF-8\")"
      ],
      "execution_count": 0,
      "outputs": []
    },
    {
      "cell_type": "code",
      "metadata": {
        "id": "foQP0I4Pi51x",
        "colab_type": "code",
        "outputId": "800f707f-2d76-412d-89fb-94d4626c7cf3",
        "colab": {
          "base_uri": "https://localhost:8080/",
          "height": 221
        }
      },
      "source": [
        "test.columns "
      ],
      "execution_count": 0,
      "outputs": [
        {
          "output_type": "execute_result",
          "data": {
            "text/plain": [
              "Index(['NU_INSCRICAO', 'CO_UF_RESIDENCIA', 'SG_UF_RESIDENCIA', 'NU_IDADE',\n",
              "       'TP_SEXO', 'TP_COR_RACA', 'TP_NACIONALIDADE', 'TP_ST_CONCLUSAO',\n",
              "       'TP_ANO_CONCLUIU', 'TP_ESCOLA', 'TP_ENSINO', 'IN_TREINEIRO',\n",
              "       'TP_DEPENDENCIA_ADM_ESC', 'IN_BAIXA_VISAO', 'IN_CEGUEIRA', 'IN_SURDEZ',\n",
              "       'IN_DISLEXIA', 'IN_DISCALCULIA', 'IN_SABATISTA', 'IN_GESTANTE',\n",
              "       'IN_IDOSO', 'TP_PRESENCA_CN', 'TP_PRESENCA_CH', 'TP_PRESENCA_LC',\n",
              "       'CO_PROVA_CN', 'CO_PROVA_CH', 'CO_PROVA_LC', 'CO_PROVA_MT',\n",
              "       'NU_NOTA_CN', 'NU_NOTA_CH', 'NU_NOTA_LC', 'TP_LINGUA',\n",
              "       'TP_STATUS_REDACAO', 'NU_NOTA_COMP1', 'NU_NOTA_COMP2', 'NU_NOTA_COMP3',\n",
              "       'NU_NOTA_COMP4', 'NU_NOTA_COMP5', 'NU_NOTA_REDACAO', 'Q001', 'Q002',\n",
              "       'Q006', 'Q024', 'Q025', 'Q026', 'Q027', 'Q047'],\n",
              "      dtype='object')"
            ]
          },
          "metadata": {
            "tags": []
          },
          "execution_count": 6
        }
      ]
    },
    {
      "cell_type": "code",
      "metadata": {
        "id": "o5z8COgoja6u",
        "colab_type": "code",
        "outputId": "5fbb8812-cb29-467d-b1d2-25ee049e1035",
        "colab": {
          "base_uri": "https://localhost:8080/",
          "height": 136
        }
      },
      "source": [
        "train.columns"
      ],
      "execution_count": 0,
      "outputs": [
        {
          "output_type": "execute_result",
          "data": {
            "text/plain": [
              "Index(['Unnamed: 0', 'NU_INSCRICAO', 'NU_ANO', 'CO_MUNICIPIO_RESIDENCIA',\n",
              "       'NO_MUNICIPIO_RESIDENCIA', 'CO_UF_RESIDENCIA', 'SG_UF_RESIDENCIA',\n",
              "       'NU_IDADE', 'TP_SEXO', 'TP_ESTADO_CIVIL',\n",
              "       ...\n",
              "       'Q041', 'Q042', 'Q043', 'Q044', 'Q045', 'Q046', 'Q047', 'Q048', 'Q049',\n",
              "       'Q050'],\n",
              "      dtype='object', length=167)"
            ]
          },
          "metadata": {
            "tags": []
          },
          "execution_count": 7
        }
      ]
    },
    {
      "cell_type": "markdown",
      "metadata": {
        "id": "Ew2-f_CHjtlQ",
        "colab_type": "text"
      },
      "source": [
        "Verificação de quais colunas tem melhor correlação com NU_NOTA_MF"
      ]
    },
    {
      "cell_type": "code",
      "metadata": {
        "id": "WGfcltPljkro",
        "colab_type": "code",
        "outputId": "be0200bc-2656-424a-c9e2-2db7da5a0266",
        "colab": {
          "base_uri": "https://localhost:8080/",
          "height": 456
        }
      },
      "source": [
        "train.corr()"
      ],
      "execution_count": 0,
      "outputs": [
        {
          "output_type": "execute_result",
          "data": {
            "text/html": [
              "<div>\n",
              "<style scoped>\n",
              "    .dataframe tbody tr th:only-of-type {\n",
              "        vertical-align: middle;\n",
              "    }\n",
              "\n",
              "    .dataframe tbody tr th {\n",
              "        vertical-align: top;\n",
              "    }\n",
              "\n",
              "    .dataframe thead th {\n",
              "        text-align: right;\n",
              "    }\n",
              "</style>\n",
              "<table border=\"1\" class=\"dataframe\">\n",
              "  <thead>\n",
              "    <tr style=\"text-align: right;\">\n",
              "      <th></th>\n",
              "      <th>Unnamed: 0</th>\n",
              "      <th>NU_ANO</th>\n",
              "      <th>CO_MUNICIPIO_RESIDENCIA</th>\n",
              "      <th>CO_UF_RESIDENCIA</th>\n",
              "      <th>NU_IDADE</th>\n",
              "      <th>TP_ESTADO_CIVIL</th>\n",
              "      <th>TP_COR_RACA</th>\n",
              "      <th>TP_NACIONALIDADE</th>\n",
              "      <th>CO_MUNICIPIO_NASCIMENTO</th>\n",
              "      <th>CO_UF_NASCIMENTO</th>\n",
              "      <th>TP_ST_CONCLUSAO</th>\n",
              "      <th>TP_ANO_CONCLUIU</th>\n",
              "      <th>TP_ESCOLA</th>\n",
              "      <th>TP_ENSINO</th>\n",
              "      <th>IN_TREINEIRO</th>\n",
              "      <th>CO_ESCOLA</th>\n",
              "      <th>CO_MUNICIPIO_ESC</th>\n",
              "      <th>CO_UF_ESC</th>\n",
              "      <th>TP_DEPENDENCIA_ADM_ESC</th>\n",
              "      <th>TP_LOCALIZACAO_ESC</th>\n",
              "      <th>TP_SIT_FUNC_ESC</th>\n",
              "      <th>IN_BAIXA_VISAO</th>\n",
              "      <th>IN_CEGUEIRA</th>\n",
              "      <th>IN_SURDEZ</th>\n",
              "      <th>IN_DEFICIENCIA_AUDITIVA</th>\n",
              "      <th>IN_SURDO_CEGUEIRA</th>\n",
              "      <th>IN_DEFICIENCIA_FISICA</th>\n",
              "      <th>IN_DEFICIENCIA_MENTAL</th>\n",
              "      <th>IN_DEFICIT_ATENCAO</th>\n",
              "      <th>IN_DISLEXIA</th>\n",
              "      <th>IN_DISCALCULIA</th>\n",
              "      <th>IN_AUTISMO</th>\n",
              "      <th>IN_VISAO_MONOCULAR</th>\n",
              "      <th>IN_OUTRA_DEF</th>\n",
              "      <th>IN_SABATISTA</th>\n",
              "      <th>IN_GESTANTE</th>\n",
              "      <th>IN_LACTANTE</th>\n",
              "      <th>IN_IDOSO</th>\n",
              "      <th>IN_ESTUDA_CLASSE_HOSPITALAR</th>\n",
              "      <th>IN_SEM_RECURSO</th>\n",
              "      <th>...</th>\n",
              "      <th>IN_SALA_INDIVIDUAL</th>\n",
              "      <th>IN_SALA_ESPECIAL</th>\n",
              "      <th>IN_SALA_ACOMPANHANTE</th>\n",
              "      <th>IN_MOBILIARIO_ESPECIFICO</th>\n",
              "      <th>IN_MATERIAL_ESPECIFICO</th>\n",
              "      <th>IN_NOME_SOCIAL</th>\n",
              "      <th>IN_CERTIFICADO</th>\n",
              "      <th>CO_UF_ENTIDADE_CERTIFICACAO</th>\n",
              "      <th>CO_MUNICIPIO_PROVA</th>\n",
              "      <th>CO_UF_PROVA</th>\n",
              "      <th>TP_PRESENCA_CN</th>\n",
              "      <th>TP_PRESENCA_CH</th>\n",
              "      <th>TP_PRESENCA_LC</th>\n",
              "      <th>TP_PRESENCA_MT</th>\n",
              "      <th>NU_NOTA_CN</th>\n",
              "      <th>NU_NOTA_CH</th>\n",
              "      <th>NU_NOTA_LC</th>\n",
              "      <th>NU_NOTA_MT</th>\n",
              "      <th>TP_LINGUA</th>\n",
              "      <th>TP_STATUS_REDACAO</th>\n",
              "      <th>NU_NOTA_COMP1</th>\n",
              "      <th>NU_NOTA_COMP2</th>\n",
              "      <th>NU_NOTA_COMP3</th>\n",
              "      <th>NU_NOTA_COMP4</th>\n",
              "      <th>NU_NOTA_COMP5</th>\n",
              "      <th>NU_NOTA_REDACAO</th>\n",
              "      <th>Q005</th>\n",
              "      <th>Q029</th>\n",
              "      <th>Q030</th>\n",
              "      <th>Q031</th>\n",
              "      <th>Q032</th>\n",
              "      <th>Q033</th>\n",
              "      <th>Q034</th>\n",
              "      <th>Q035</th>\n",
              "      <th>Q036</th>\n",
              "      <th>Q037</th>\n",
              "      <th>Q038</th>\n",
              "      <th>Q039</th>\n",
              "      <th>Q040</th>\n",
              "      <th>Q041</th>\n",
              "    </tr>\n",
              "  </thead>\n",
              "  <tbody>\n",
              "    <tr>\n",
              "      <th>Unnamed: 0</th>\n",
              "      <td>1.000000</td>\n",
              "      <td>NaN</td>\n",
              "      <td>-0.007258</td>\n",
              "      <td>-0.007250</td>\n",
              "      <td>-0.007201</td>\n",
              "      <td>0.003678</td>\n",
              "      <td>0.005707</td>\n",
              "      <td>-0.006217</td>\n",
              "      <td>-0.004527</td>\n",
              "      <td>-0.004615</td>\n",
              "      <td>0.005852</td>\n",
              "      <td>-0.003362</td>\n",
              "      <td>-0.006252</td>\n",
              "      <td>0.011372</td>\n",
              "      <td>0.006717</td>\n",
              "      <td>-0.000351</td>\n",
              "      <td>-0.000586</td>\n",
              "      <td>-0.000214</td>\n",
              "      <td>-0.011217</td>\n",
              "      <td>-0.013523</td>\n",
              "      <td>0.019805</td>\n",
              "      <td>0.003334</td>\n",
              "      <td>NaN</td>\n",
              "      <td>0.007724</td>\n",
              "      <td>0.004315</td>\n",
              "      <td>NaN</td>\n",
              "      <td>0.005417</td>\n",
              "      <td>0.004539</td>\n",
              "      <td>0.000268</td>\n",
              "      <td>0.012234</td>\n",
              "      <td>-0.004620</td>\n",
              "      <td>NaN</td>\n",
              "      <td>0.003231</td>\n",
              "      <td>0.001924</td>\n",
              "      <td>0.011940</td>\n",
              "      <td>-0.010889</td>\n",
              "      <td>-0.007018</td>\n",
              "      <td>-0.000171</td>\n",
              "      <td>NaN</td>\n",
              "      <td>0.003136</td>\n",
              "      <td>...</td>\n",
              "      <td>NaN</td>\n",
              "      <td>0.003352</td>\n",
              "      <td>NaN</td>\n",
              "      <td>NaN</td>\n",
              "      <td>NaN</td>\n",
              "      <td>0.004508</td>\n",
              "      <td>0.002816</td>\n",
              "      <td>0.048289</td>\n",
              "      <td>-0.004246</td>\n",
              "      <td>-0.004350</td>\n",
              "      <td>0.017135</td>\n",
              "      <td>0.017135</td>\n",
              "      <td>0.017073</td>\n",
              "      <td>0.017073</td>\n",
              "      <td>0.000970</td>\n",
              "      <td>-0.008336</td>\n",
              "      <td>-0.006097</td>\n",
              "      <td>0.006530</td>\n",
              "      <td>0.007925</td>\n",
              "      <td>0.000369</td>\n",
              "      <td>-0.002789</td>\n",
              "      <td>-0.004959</td>\n",
              "      <td>-0.004945</td>\n",
              "      <td>-0.003911</td>\n",
              "      <td>-0.011240</td>\n",
              "      <td>-0.006711</td>\n",
              "      <td>-0.002971</td>\n",
              "      <td>0.012977</td>\n",
              "      <td>0.000160</td>\n",
              "      <td>0.023548</td>\n",
              "      <td>0.001520</td>\n",
              "      <td>0.018074</td>\n",
              "      <td>0.001693</td>\n",
              "      <td>-0.008141</td>\n",
              "      <td>0.002724</td>\n",
              "      <td>-0.004914</td>\n",
              "      <td>0.003906</td>\n",
              "      <td>0.001002</td>\n",
              "      <td>-0.010967</td>\n",
              "      <td>-0.029937</td>\n",
              "    </tr>\n",
              "    <tr>\n",
              "      <th>NU_ANO</th>\n",
              "      <td>NaN</td>\n",
              "      <td>NaN</td>\n",
              "      <td>NaN</td>\n",
              "      <td>NaN</td>\n",
              "      <td>NaN</td>\n",
              "      <td>NaN</td>\n",
              "      <td>NaN</td>\n",
              "      <td>NaN</td>\n",
              "      <td>NaN</td>\n",
              "      <td>NaN</td>\n",
              "      <td>NaN</td>\n",
              "      <td>NaN</td>\n",
              "      <td>NaN</td>\n",
              "      <td>NaN</td>\n",
              "      <td>NaN</td>\n",
              "      <td>NaN</td>\n",
              "      <td>NaN</td>\n",
              "      <td>NaN</td>\n",
              "      <td>NaN</td>\n",
              "      <td>NaN</td>\n",
              "      <td>NaN</td>\n",
              "      <td>NaN</td>\n",
              "      <td>NaN</td>\n",
              "      <td>NaN</td>\n",
              "      <td>NaN</td>\n",
              "      <td>NaN</td>\n",
              "      <td>NaN</td>\n",
              "      <td>NaN</td>\n",
              "      <td>NaN</td>\n",
              "      <td>NaN</td>\n",
              "      <td>NaN</td>\n",
              "      <td>NaN</td>\n",
              "      <td>NaN</td>\n",
              "      <td>NaN</td>\n",
              "      <td>NaN</td>\n",
              "      <td>NaN</td>\n",
              "      <td>NaN</td>\n",
              "      <td>NaN</td>\n",
              "      <td>NaN</td>\n",
              "      <td>NaN</td>\n",
              "      <td>...</td>\n",
              "      <td>NaN</td>\n",
              "      <td>NaN</td>\n",
              "      <td>NaN</td>\n",
              "      <td>NaN</td>\n",
              "      <td>NaN</td>\n",
              "      <td>NaN</td>\n",
              "      <td>NaN</td>\n",
              "      <td>NaN</td>\n",
              "      <td>NaN</td>\n",
              "      <td>NaN</td>\n",
              "      <td>NaN</td>\n",
              "      <td>NaN</td>\n",
              "      <td>NaN</td>\n",
              "      <td>NaN</td>\n",
              "      <td>NaN</td>\n",
              "      <td>NaN</td>\n",
              "      <td>NaN</td>\n",
              "      <td>NaN</td>\n",
              "      <td>NaN</td>\n",
              "      <td>NaN</td>\n",
              "      <td>NaN</td>\n",
              "      <td>NaN</td>\n",
              "      <td>NaN</td>\n",
              "      <td>NaN</td>\n",
              "      <td>NaN</td>\n",
              "      <td>NaN</td>\n",
              "      <td>NaN</td>\n",
              "      <td>NaN</td>\n",
              "      <td>NaN</td>\n",
              "      <td>NaN</td>\n",
              "      <td>NaN</td>\n",
              "      <td>NaN</td>\n",
              "      <td>NaN</td>\n",
              "      <td>NaN</td>\n",
              "      <td>NaN</td>\n",
              "      <td>NaN</td>\n",
              "      <td>NaN</td>\n",
              "      <td>NaN</td>\n",
              "      <td>NaN</td>\n",
              "      <td>NaN</td>\n",
              "    </tr>\n",
              "    <tr>\n",
              "      <th>CO_MUNICIPIO_RESIDENCIA</th>\n",
              "      <td>-0.007258</td>\n",
              "      <td>NaN</td>\n",
              "      <td>1.000000</td>\n",
              "      <td>0.999865</td>\n",
              "      <td>-0.002296</td>\n",
              "      <td>0.020813</td>\n",
              "      <td>-0.236178</td>\n",
              "      <td>0.009710</td>\n",
              "      <td>0.865294</td>\n",
              "      <td>0.865216</td>\n",
              "      <td>0.025402</td>\n",
              "      <td>-0.032664</td>\n",
              "      <td>0.041738</td>\n",
              "      <td>0.018070</td>\n",
              "      <td>-0.035317</td>\n",
              "      <td>0.983407</td>\n",
              "      <td>0.983630</td>\n",
              "      <td>0.983488</td>\n",
              "      <td>0.080064</td>\n",
              "      <td>-0.055710</td>\n",
              "      <td>0.024364</td>\n",
              "      <td>0.001188</td>\n",
              "      <td>NaN</td>\n",
              "      <td>-0.010872</td>\n",
              "      <td>0.012790</td>\n",
              "      <td>NaN</td>\n",
              "      <td>-0.001965</td>\n",
              "      <td>0.000846</td>\n",
              "      <td>0.012051</td>\n",
              "      <td>0.003969</td>\n",
              "      <td>0.001007</td>\n",
              "      <td>NaN</td>\n",
              "      <td>-0.007271</td>\n",
              "      <td>0.008818</td>\n",
              "      <td>-0.030268</td>\n",
              "      <td>-0.009254</td>\n",
              "      <td>0.000398</td>\n",
              "      <td>-0.014474</td>\n",
              "      <td>NaN</td>\n",
              "      <td>-0.003578</td>\n",
              "      <td>...</td>\n",
              "      <td>NaN</td>\n",
              "      <td>0.003713</td>\n",
              "      <td>NaN</td>\n",
              "      <td>NaN</td>\n",
              "      <td>NaN</td>\n",
              "      <td>0.008911</td>\n",
              "      <td>-0.003259</td>\n",
              "      <td>0.991124</td>\n",
              "      <td>0.982100</td>\n",
              "      <td>0.981955</td>\n",
              "      <td>-0.035441</td>\n",
              "      <td>-0.035441</td>\n",
              "      <td>-0.034269</td>\n",
              "      <td>-0.034269</td>\n",
              "      <td>0.085643</td>\n",
              "      <td>0.124272</td>\n",
              "      <td>0.130161</td>\n",
              "      <td>0.108850</td>\n",
              "      <td>-0.098682</td>\n",
              "      <td>-0.017227</td>\n",
              "      <td>0.069971</td>\n",
              "      <td>0.048547</td>\n",
              "      <td>0.051289</td>\n",
              "      <td>0.062718</td>\n",
              "      <td>0.044335</td>\n",
              "      <td>0.061549</td>\n",
              "      <td>-0.117804</td>\n",
              "      <td>-0.073321</td>\n",
              "      <td>-0.079831</td>\n",
              "      <td>-0.025616</td>\n",
              "      <td>0.004115</td>\n",
              "      <td>-0.030114</td>\n",
              "      <td>-0.050304</td>\n",
              "      <td>-0.050138</td>\n",
              "      <td>-0.040668</td>\n",
              "      <td>-0.013479</td>\n",
              "      <td>-0.032710</td>\n",
              "      <td>-0.094862</td>\n",
              "      <td>-0.077456</td>\n",
              "      <td>-0.033205</td>\n",
              "    </tr>\n",
              "    <tr>\n",
              "      <th>CO_UF_RESIDENCIA</th>\n",
              "      <td>-0.007250</td>\n",
              "      <td>NaN</td>\n",
              "      <td>0.999865</td>\n",
              "      <td>1.000000</td>\n",
              "      <td>-0.002017</td>\n",
              "      <td>0.020947</td>\n",
              "      <td>-0.234786</td>\n",
              "      <td>0.009433</td>\n",
              "      <td>0.864791</td>\n",
              "      <td>0.864919</td>\n",
              "      <td>0.025822</td>\n",
              "      <td>-0.032538</td>\n",
              "      <td>0.041406</td>\n",
              "      <td>0.018145</td>\n",
              "      <td>-0.034944</td>\n",
              "      <td>0.983393</td>\n",
              "      <td>0.983417</td>\n",
              "      <td>0.983552</td>\n",
              "      <td>0.079229</td>\n",
              "      <td>-0.054736</td>\n",
              "      <td>0.024666</td>\n",
              "      <td>0.001360</td>\n",
              "      <td>NaN</td>\n",
              "      <td>-0.010716</td>\n",
              "      <td>0.013035</td>\n",
              "      <td>NaN</td>\n",
              "      <td>-0.001914</td>\n",
              "      <td>0.000934</td>\n",
              "      <td>0.011867</td>\n",
              "      <td>0.003689</td>\n",
              "      <td>0.001093</td>\n",
              "      <td>NaN</td>\n",
              "      <td>-0.007216</td>\n",
              "      <td>0.008782</td>\n",
              "      <td>-0.029933</td>\n",
              "      <td>-0.009503</td>\n",
              "      <td>0.000516</td>\n",
              "      <td>-0.014365</td>\n",
              "      <td>NaN</td>\n",
              "      <td>-0.003675</td>\n",
              "      <td>...</td>\n",
              "      <td>NaN</td>\n",
              "      <td>0.003689</td>\n",
              "      <td>NaN</td>\n",
              "      <td>NaN</td>\n",
              "      <td>NaN</td>\n",
              "      <td>0.008251</td>\n",
              "      <td>-0.002454</td>\n",
              "      <td>0.991177</td>\n",
              "      <td>0.981938</td>\n",
              "      <td>0.982035</td>\n",
              "      <td>-0.035438</td>\n",
              "      <td>-0.035438</td>\n",
              "      <td>-0.034287</td>\n",
              "      <td>-0.034287</td>\n",
              "      <td>0.084534</td>\n",
              "      <td>0.122825</td>\n",
              "      <td>0.128479</td>\n",
              "      <td>0.107493</td>\n",
              "      <td>-0.096473</td>\n",
              "      <td>-0.016955</td>\n",
              "      <td>0.069195</td>\n",
              "      <td>0.047746</td>\n",
              "      <td>0.050400</td>\n",
              "      <td>0.061881</td>\n",
              "      <td>0.043565</td>\n",
              "      <td>0.060629</td>\n",
              "      <td>-0.117288</td>\n",
              "      <td>-0.073029</td>\n",
              "      <td>-0.078885</td>\n",
              "      <td>-0.025491</td>\n",
              "      <td>0.003968</td>\n",
              "      <td>-0.030345</td>\n",
              "      <td>-0.050096</td>\n",
              "      <td>-0.049292</td>\n",
              "      <td>-0.040688</td>\n",
              "      <td>-0.013647</td>\n",
              "      <td>-0.032467</td>\n",
              "      <td>-0.094113</td>\n",
              "      <td>-0.076838</td>\n",
              "      <td>-0.033149</td>\n",
              "    </tr>\n",
              "    <tr>\n",
              "      <th>NU_IDADE</th>\n",
              "      <td>-0.007201</td>\n",
              "      <td>NaN</td>\n",
              "      <td>-0.002296</td>\n",
              "      <td>-0.002017</td>\n",
              "      <td>1.000000</td>\n",
              "      <td>0.533462</td>\n",
              "      <td>0.009675</td>\n",
              "      <td>-0.017713</td>\n",
              "      <td>-0.030711</td>\n",
              "      <td>-0.030259</td>\n",
              "      <td>-0.253403</td>\n",
              "      <td>0.681435</td>\n",
              "      <td>-0.296328</td>\n",
              "      <td>0.516253</td>\n",
              "      <td>-0.295091</td>\n",
              "      <td>-0.019091</td>\n",
              "      <td>-0.019710</td>\n",
              "      <td>-0.019013</td>\n",
              "      <td>-0.082980</td>\n",
              "      <td>0.009653</td>\n",
              "      <td>0.007082</td>\n",
              "      <td>0.027907</td>\n",
              "      <td>NaN</td>\n",
              "      <td>0.006520</td>\n",
              "      <td>0.011380</td>\n",
              "      <td>NaN</td>\n",
              "      <td>0.036361</td>\n",
              "      <td>0.000696</td>\n",
              "      <td>-0.006294</td>\n",
              "      <td>0.000492</td>\n",
              "      <td>-0.004355</td>\n",
              "      <td>NaN</td>\n",
              "      <td>0.023470</td>\n",
              "      <td>0.018252</td>\n",
              "      <td>0.004965</td>\n",
              "      <td>0.006482</td>\n",
              "      <td>0.010583</td>\n",
              "      <td>0.074384</td>\n",
              "      <td>NaN</td>\n",
              "      <td>0.026882</td>\n",
              "      <td>...</td>\n",
              "      <td>NaN</td>\n",
              "      <td>0.021091</td>\n",
              "      <td>NaN</td>\n",
              "      <td>NaN</td>\n",
              "      <td>NaN</td>\n",
              "      <td>0.042833</td>\n",
              "      <td>0.107104</td>\n",
              "      <td>0.160722</td>\n",
              "      <td>-0.001644</td>\n",
              "      <td>-0.001327</td>\n",
              "      <td>-0.245190</td>\n",
              "      <td>-0.245190</td>\n",
              "      <td>-0.241092</td>\n",
              "      <td>-0.241092</td>\n",
              "      <td>-0.056171</td>\n",
              "      <td>-0.001611</td>\n",
              "      <td>-0.024979</td>\n",
              "      <td>-0.061485</td>\n",
              "      <td>0.082065</td>\n",
              "      <td>0.055675</td>\n",
              "      <td>-0.102243</td>\n",
              "      <td>-0.114181</td>\n",
              "      <td>-0.104293</td>\n",
              "      <td>-0.110452</td>\n",
              "      <td>-0.086709</td>\n",
              "      <td>-0.116125</td>\n",
              "      <td>-0.097169</td>\n",
              "      <td>-0.035952</td>\n",
              "      <td>0.418387</td>\n",
              "      <td>0.018634</td>\n",
              "      <td>-0.044791</td>\n",
              "      <td>0.025077</td>\n",
              "      <td>-0.030681</td>\n",
              "      <td>0.012739</td>\n",
              "      <td>0.021949</td>\n",
              "      <td>-0.003569</td>\n",
              "      <td>-0.035306</td>\n",
              "      <td>-0.069973</td>\n",
              "      <td>-0.010988</td>\n",
              "      <td>0.160526</td>\n",
              "    </tr>\n",
              "    <tr>\n",
              "      <th>...</th>\n",
              "      <td>...</td>\n",
              "      <td>...</td>\n",
              "      <td>...</td>\n",
              "      <td>...</td>\n",
              "      <td>...</td>\n",
              "      <td>...</td>\n",
              "      <td>...</td>\n",
              "      <td>...</td>\n",
              "      <td>...</td>\n",
              "      <td>...</td>\n",
              "      <td>...</td>\n",
              "      <td>...</td>\n",
              "      <td>...</td>\n",
              "      <td>...</td>\n",
              "      <td>...</td>\n",
              "      <td>...</td>\n",
              "      <td>...</td>\n",
              "      <td>...</td>\n",
              "      <td>...</td>\n",
              "      <td>...</td>\n",
              "      <td>...</td>\n",
              "      <td>...</td>\n",
              "      <td>...</td>\n",
              "      <td>...</td>\n",
              "      <td>...</td>\n",
              "      <td>...</td>\n",
              "      <td>...</td>\n",
              "      <td>...</td>\n",
              "      <td>...</td>\n",
              "      <td>...</td>\n",
              "      <td>...</td>\n",
              "      <td>...</td>\n",
              "      <td>...</td>\n",
              "      <td>...</td>\n",
              "      <td>...</td>\n",
              "      <td>...</td>\n",
              "      <td>...</td>\n",
              "      <td>...</td>\n",
              "      <td>...</td>\n",
              "      <td>...</td>\n",
              "      <td>...</td>\n",
              "      <td>...</td>\n",
              "      <td>...</td>\n",
              "      <td>...</td>\n",
              "      <td>...</td>\n",
              "      <td>...</td>\n",
              "      <td>...</td>\n",
              "      <td>...</td>\n",
              "      <td>...</td>\n",
              "      <td>...</td>\n",
              "      <td>...</td>\n",
              "      <td>...</td>\n",
              "      <td>...</td>\n",
              "      <td>...</td>\n",
              "      <td>...</td>\n",
              "      <td>...</td>\n",
              "      <td>...</td>\n",
              "      <td>...</td>\n",
              "      <td>...</td>\n",
              "      <td>...</td>\n",
              "      <td>...</td>\n",
              "      <td>...</td>\n",
              "      <td>...</td>\n",
              "      <td>...</td>\n",
              "      <td>...</td>\n",
              "      <td>...</td>\n",
              "      <td>...</td>\n",
              "      <td>...</td>\n",
              "      <td>...</td>\n",
              "      <td>...</td>\n",
              "      <td>...</td>\n",
              "      <td>...</td>\n",
              "      <td>...</td>\n",
              "      <td>...</td>\n",
              "      <td>...</td>\n",
              "      <td>...</td>\n",
              "      <td>...</td>\n",
              "      <td>...</td>\n",
              "      <td>...</td>\n",
              "      <td>...</td>\n",
              "      <td>...</td>\n",
              "    </tr>\n",
              "    <tr>\n",
              "      <th>Q037</th>\n",
              "      <td>-0.004914</td>\n",
              "      <td>NaN</td>\n",
              "      <td>-0.013479</td>\n",
              "      <td>-0.013647</td>\n",
              "      <td>-0.003569</td>\n",
              "      <td>0.002294</td>\n",
              "      <td>0.086642</td>\n",
              "      <td>0.032588</td>\n",
              "      <td>-0.024174</td>\n",
              "      <td>-0.024201</td>\n",
              "      <td>0.001767</td>\n",
              "      <td>-0.007379</td>\n",
              "      <td>-0.019991</td>\n",
              "      <td>0.024624</td>\n",
              "      <td>-0.020651</td>\n",
              "      <td>0.012459</td>\n",
              "      <td>0.012914</td>\n",
              "      <td>0.012547</td>\n",
              "      <td>-0.242419</td>\n",
              "      <td>-0.017336</td>\n",
              "      <td>0.007576</td>\n",
              "      <td>-0.030724</td>\n",
              "      <td>NaN</td>\n",
              "      <td>-0.007300</td>\n",
              "      <td>-0.011326</td>\n",
              "      <td>NaN</td>\n",
              "      <td>0.002899</td>\n",
              "      <td>0.005441</td>\n",
              "      <td>-0.059131</td>\n",
              "      <td>-0.017487</td>\n",
              "      <td>0.003847</td>\n",
              "      <td>NaN</td>\n",
              "      <td>0.006522</td>\n",
              "      <td>0.010181</td>\n",
              "      <td>0.006787</td>\n",
              "      <td>0.007958</td>\n",
              "      <td>0.013507</td>\n",
              "      <td>0.005441</td>\n",
              "      <td>NaN</td>\n",
              "      <td>-0.016199</td>\n",
              "      <td>...</td>\n",
              "      <td>NaN</td>\n",
              "      <td>0.003847</td>\n",
              "      <td>NaN</td>\n",
              "      <td>NaN</td>\n",
              "      <td>NaN</td>\n",
              "      <td>-0.004119</td>\n",
              "      <td>0.023996</td>\n",
              "      <td>-0.061345</td>\n",
              "      <td>-0.011504</td>\n",
              "      <td>-0.011557</td>\n",
              "      <td>-0.028485</td>\n",
              "      <td>-0.028485</td>\n",
              "      <td>-0.026968</td>\n",
              "      <td>-0.026968</td>\n",
              "      <td>-0.273410</td>\n",
              "      <td>-0.235883</td>\n",
              "      <td>-0.212129</td>\n",
              "      <td>-0.265249</td>\n",
              "      <td>0.106602</td>\n",
              "      <td>0.011440</td>\n",
              "      <td>-0.136336</td>\n",
              "      <td>-0.173082</td>\n",
              "      <td>-0.177818</td>\n",
              "      <td>-0.159789</td>\n",
              "      <td>-0.175356</td>\n",
              "      <td>-0.187413</td>\n",
              "      <td>0.041987</td>\n",
              "      <td>0.172342</td>\n",
              "      <td>0.093032</td>\n",
              "      <td>0.118516</td>\n",
              "      <td>0.220839</td>\n",
              "      <td>0.225791</td>\n",
              "      <td>0.245757</td>\n",
              "      <td>0.202230</td>\n",
              "      <td>0.387722</td>\n",
              "      <td>1.000000</td>\n",
              "      <td>0.496678</td>\n",
              "      <td>0.254418</td>\n",
              "      <td>0.270380</td>\n",
              "      <td>0.187921</td>\n",
              "    </tr>\n",
              "    <tr>\n",
              "      <th>Q038</th>\n",
              "      <td>0.003906</td>\n",
              "      <td>NaN</td>\n",
              "      <td>-0.032710</td>\n",
              "      <td>-0.032467</td>\n",
              "      <td>-0.035306</td>\n",
              "      <td>-0.014725</td>\n",
              "      <td>0.069298</td>\n",
              "      <td>0.024112</td>\n",
              "      <td>-0.038666</td>\n",
              "      <td>-0.038305</td>\n",
              "      <td>0.080592</td>\n",
              "      <td>-0.072813</td>\n",
              "      <td>0.035877</td>\n",
              "      <td>0.041203</td>\n",
              "      <td>0.018855</td>\n",
              "      <td>-0.040819</td>\n",
              "      <td>-0.040648</td>\n",
              "      <td>-0.040294</td>\n",
              "      <td>-0.145333</td>\n",
              "      <td>0.005955</td>\n",
              "      <td>-0.030931</td>\n",
              "      <td>-0.028589</td>\n",
              "      <td>NaN</td>\n",
              "      <td>-0.003668</td>\n",
              "      <td>-0.003958</td>\n",
              "      <td>NaN</td>\n",
              "      <td>-0.001605</td>\n",
              "      <td>-0.008750</td>\n",
              "      <td>-0.010402</td>\n",
              "      <td>-0.003661</td>\n",
              "      <td>0.006443</td>\n",
              "      <td>NaN</td>\n",
              "      <td>-0.004843</td>\n",
              "      <td>-0.000138</td>\n",
              "      <td>-0.011170</td>\n",
              "      <td>-0.000589</td>\n",
              "      <td>0.015154</td>\n",
              "      <td>-0.005177</td>\n",
              "      <td>NaN</td>\n",
              "      <td>-0.008920</td>\n",
              "      <td>...</td>\n",
              "      <td>NaN</td>\n",
              "      <td>-0.013765</td>\n",
              "      <td>NaN</td>\n",
              "      <td>NaN</td>\n",
              "      <td>NaN</td>\n",
              "      <td>0.005371</td>\n",
              "      <td>0.067713</td>\n",
              "      <td>-0.051558</td>\n",
              "      <td>-0.034378</td>\n",
              "      <td>-0.034074</td>\n",
              "      <td>-0.016003</td>\n",
              "      <td>-0.016003</td>\n",
              "      <td>-0.019277</td>\n",
              "      <td>-0.019277</td>\n",
              "      <td>-0.202920</td>\n",
              "      <td>-0.221562</td>\n",
              "      <td>-0.221847</td>\n",
              "      <td>-0.202259</td>\n",
              "      <td>0.092053</td>\n",
              "      <td>0.017835</td>\n",
              "      <td>-0.141339</td>\n",
              "      <td>-0.157421</td>\n",
              "      <td>-0.164138</td>\n",
              "      <td>-0.153423</td>\n",
              "      <td>-0.147931</td>\n",
              "      <td>-0.172875</td>\n",
              "      <td>0.046494</td>\n",
              "      <td>0.169494</td>\n",
              "      <td>0.130559</td>\n",
              "      <td>0.101342</td>\n",
              "      <td>0.159887</td>\n",
              "      <td>0.223508</td>\n",
              "      <td>0.215767</td>\n",
              "      <td>0.142610</td>\n",
              "      <td>0.378421</td>\n",
              "      <td>0.496678</td>\n",
              "      <td>1.000000</td>\n",
              "      <td>0.374424</td>\n",
              "      <td>0.259947</td>\n",
              "      <td>0.219529</td>\n",
              "    </tr>\n",
              "    <tr>\n",
              "      <th>Q039</th>\n",
              "      <td>0.001002</td>\n",
              "      <td>NaN</td>\n",
              "      <td>-0.094862</td>\n",
              "      <td>-0.094113</td>\n",
              "      <td>-0.069973</td>\n",
              "      <td>-0.066346</td>\n",
              "      <td>0.046830</td>\n",
              "      <td>0.011327</td>\n",
              "      <td>-0.097273</td>\n",
              "      <td>-0.096666</td>\n",
              "      <td>0.019877</td>\n",
              "      <td>-0.048672</td>\n",
              "      <td>0.018430</td>\n",
              "      <td>-0.029358</td>\n",
              "      <td>0.040348</td>\n",
              "      <td>-0.122494</td>\n",
              "      <td>-0.123456</td>\n",
              "      <td>-0.122504</td>\n",
              "      <td>-0.005773</td>\n",
              "      <td>0.010145</td>\n",
              "      <td>-0.027551</td>\n",
              "      <td>-0.013989</td>\n",
              "      <td>NaN</td>\n",
              "      <td>0.001039</td>\n",
              "      <td>-0.002900</td>\n",
              "      <td>NaN</td>\n",
              "      <td>-0.006527</td>\n",
              "      <td>-0.007067</td>\n",
              "      <td>-0.017337</td>\n",
              "      <td>-0.002515</td>\n",
              "      <td>-0.017411</td>\n",
              "      <td>NaN</td>\n",
              "      <td>-0.006160</td>\n",
              "      <td>-0.008531</td>\n",
              "      <td>-0.009671</td>\n",
              "      <td>-0.010448</td>\n",
              "      <td>-0.017100</td>\n",
              "      <td>0.006977</td>\n",
              "      <td>NaN</td>\n",
              "      <td>-0.022318</td>\n",
              "      <td>...</td>\n",
              "      <td>NaN</td>\n",
              "      <td>0.002451</td>\n",
              "      <td>NaN</td>\n",
              "      <td>NaN</td>\n",
              "      <td>NaN</td>\n",
              "      <td>0.003260</td>\n",
              "      <td>0.004510</td>\n",
              "      <td>-0.129300</td>\n",
              "      <td>-0.094261</td>\n",
              "      <td>-0.093506</td>\n",
              "      <td>0.029835</td>\n",
              "      <td>0.029835</td>\n",
              "      <td>0.023827</td>\n",
              "      <td>0.023827</td>\n",
              "      <td>-0.000128</td>\n",
              "      <td>-0.039593</td>\n",
              "      <td>-0.052357</td>\n",
              "      <td>-0.019360</td>\n",
              "      <td>0.019176</td>\n",
              "      <td>0.010357</td>\n",
              "      <td>-0.032053</td>\n",
              "      <td>-0.024866</td>\n",
              "      <td>-0.023113</td>\n",
              "      <td>-0.022182</td>\n",
              "      <td>-0.006653</td>\n",
              "      <td>-0.023452</td>\n",
              "      <td>0.042499</td>\n",
              "      <td>0.183869</td>\n",
              "      <td>0.094260</td>\n",
              "      <td>0.104165</td>\n",
              "      <td>0.144264</td>\n",
              "      <td>0.206979</td>\n",
              "      <td>0.189252</td>\n",
              "      <td>0.225724</td>\n",
              "      <td>0.270343</td>\n",
              "      <td>0.254418</td>\n",
              "      <td>0.374424</td>\n",
              "      <td>1.000000</td>\n",
              "      <td>0.305357</td>\n",
              "      <td>0.262031</td>\n",
              "    </tr>\n",
              "    <tr>\n",
              "      <th>Q040</th>\n",
              "      <td>-0.010967</td>\n",
              "      <td>NaN</td>\n",
              "      <td>-0.077456</td>\n",
              "      <td>-0.076838</td>\n",
              "      <td>-0.010988</td>\n",
              "      <td>-0.022736</td>\n",
              "      <td>0.053556</td>\n",
              "      <td>0.014847</td>\n",
              "      <td>-0.081490</td>\n",
              "      <td>-0.080963</td>\n",
              "      <td>0.051951</td>\n",
              "      <td>-0.052564</td>\n",
              "      <td>0.036985</td>\n",
              "      <td>0.032923</td>\n",
              "      <td>0.005270</td>\n",
              "      <td>-0.078344</td>\n",
              "      <td>-0.078338</td>\n",
              "      <td>-0.077712</td>\n",
              "      <td>-0.059893</td>\n",
              "      <td>-0.003063</td>\n",
              "      <td>-0.053643</td>\n",
              "      <td>-0.009669</td>\n",
              "      <td>NaN</td>\n",
              "      <td>0.002551</td>\n",
              "      <td>-0.005720</td>\n",
              "      <td>NaN</td>\n",
              "      <td>0.007574</td>\n",
              "      <td>0.005699</td>\n",
              "      <td>-0.029558</td>\n",
              "      <td>-0.010417</td>\n",
              "      <td>0.004030</td>\n",
              "      <td>NaN</td>\n",
              "      <td>0.003974</td>\n",
              "      <td>-0.005720</td>\n",
              "      <td>-0.011202</td>\n",
              "      <td>0.004515</td>\n",
              "      <td>-0.007284</td>\n",
              "      <td>-0.030056</td>\n",
              "      <td>NaN</td>\n",
              "      <td>-0.012655</td>\n",
              "      <td>...</td>\n",
              "      <td>NaN</td>\n",
              "      <td>0.004030</td>\n",
              "      <td>NaN</td>\n",
              "      <td>NaN</td>\n",
              "      <td>NaN</td>\n",
              "      <td>-0.003911</td>\n",
              "      <td>0.061778</td>\n",
              "      <td>-0.048660</td>\n",
              "      <td>-0.076697</td>\n",
              "      <td>-0.076038</td>\n",
              "      <td>-0.013657</td>\n",
              "      <td>-0.013657</td>\n",
              "      <td>-0.016834</td>\n",
              "      <td>-0.016834</td>\n",
              "      <td>-0.113885</td>\n",
              "      <td>-0.133741</td>\n",
              "      <td>-0.128051</td>\n",
              "      <td>-0.119997</td>\n",
              "      <td>0.060805</td>\n",
              "      <td>0.003761</td>\n",
              "      <td>-0.081407</td>\n",
              "      <td>-0.095383</td>\n",
              "      <td>-0.099993</td>\n",
              "      <td>-0.090415</td>\n",
              "      <td>-0.084367</td>\n",
              "      <td>-0.102026</td>\n",
              "      <td>0.053892</td>\n",
              "      <td>0.181488</td>\n",
              "      <td>0.146498</td>\n",
              "      <td>0.157666</td>\n",
              "      <td>0.215292</td>\n",
              "      <td>0.176028</td>\n",
              "      <td>0.243190</td>\n",
              "      <td>0.179292</td>\n",
              "      <td>0.177025</td>\n",
              "      <td>0.270380</td>\n",
              "      <td>0.259947</td>\n",
              "      <td>0.305357</td>\n",
              "      <td>1.000000</td>\n",
              "      <td>0.306438</td>\n",
              "    </tr>\n",
              "    <tr>\n",
              "      <th>Q041</th>\n",
              "      <td>-0.029937</td>\n",
              "      <td>NaN</td>\n",
              "      <td>-0.033205</td>\n",
              "      <td>-0.033149</td>\n",
              "      <td>0.160526</td>\n",
              "      <td>0.108771</td>\n",
              "      <td>0.020966</td>\n",
              "      <td>0.008132</td>\n",
              "      <td>-0.042237</td>\n",
              "      <td>-0.042134</td>\n",
              "      <td>0.028234</td>\n",
              "      <td>0.084309</td>\n",
              "      <td>-0.087935</td>\n",
              "      <td>0.126503</td>\n",
              "      <td>-0.046232</td>\n",
              "      <td>-0.066173</td>\n",
              "      <td>-0.065058</td>\n",
              "      <td>-0.064864</td>\n",
              "      <td>-0.104268</td>\n",
              "      <td>-0.023198</td>\n",
              "      <td>-0.047072</td>\n",
              "      <td>0.014038</td>\n",
              "      <td>NaN</td>\n",
              "      <td>0.012383</td>\n",
              "      <td>0.003471</td>\n",
              "      <td>NaN</td>\n",
              "      <td>0.019857</td>\n",
              "      <td>0.014038</td>\n",
              "      <td>NaN</td>\n",
              "      <td>NaN</td>\n",
              "      <td>NaN</td>\n",
              "      <td>NaN</td>\n",
              "      <td>-0.006192</td>\n",
              "      <td>-0.002564</td>\n",
              "      <td>0.002688</td>\n",
              "      <td>NaN</td>\n",
              "      <td>0.008509</td>\n",
              "      <td>0.014038</td>\n",
              "      <td>NaN</td>\n",
              "      <td>0.006088</td>\n",
              "      <td>...</td>\n",
              "      <td>NaN</td>\n",
              "      <td>NaN</td>\n",
              "      <td>NaN</td>\n",
              "      <td>NaN</td>\n",
              "      <td>NaN</td>\n",
              "      <td>NaN</td>\n",
              "      <td>0.073878</td>\n",
              "      <td>0.055977</td>\n",
              "      <td>-0.037427</td>\n",
              "      <td>-0.037275</td>\n",
              "      <td>-0.054062</td>\n",
              "      <td>-0.054062</td>\n",
              "      <td>-0.050498</td>\n",
              "      <td>-0.050498</td>\n",
              "      <td>-0.119035</td>\n",
              "      <td>-0.118760</td>\n",
              "      <td>-0.118779</td>\n",
              "      <td>-0.131795</td>\n",
              "      <td>0.053789</td>\n",
              "      <td>0.009012</td>\n",
              "      <td>-0.088096</td>\n",
              "      <td>-0.082863</td>\n",
              "      <td>-0.069967</td>\n",
              "      <td>-0.082042</td>\n",
              "      <td>-0.057855</td>\n",
              "      <td>-0.087124</td>\n",
              "      <td>0.034236</td>\n",
              "      <td>0.164861</td>\n",
              "      <td>0.254543</td>\n",
              "      <td>0.133700</td>\n",
              "      <td>0.233832</td>\n",
              "      <td>0.205239</td>\n",
              "      <td>0.154743</td>\n",
              "      <td>0.113574</td>\n",
              "      <td>0.214736</td>\n",
              "      <td>0.187921</td>\n",
              "      <td>0.219529</td>\n",
              "      <td>0.262031</td>\n",
              "      <td>0.306438</td>\n",
              "      <td>1.000000</td>\n",
              "    </tr>\n",
              "  </tbody>\n",
              "</table>\n",
              "<p>107 rows × 107 columns</p>\n",
              "</div>"
            ],
            "text/plain": [
              "                         Unnamed: 0  NU_ANO  ...      Q040      Q041\n",
              "Unnamed: 0                 1.000000     NaN  ... -0.010967 -0.029937\n",
              "NU_ANO                          NaN     NaN  ...       NaN       NaN\n",
              "CO_MUNICIPIO_RESIDENCIA   -0.007258     NaN  ... -0.077456 -0.033205\n",
              "CO_UF_RESIDENCIA          -0.007250     NaN  ... -0.076838 -0.033149\n",
              "NU_IDADE                  -0.007201     NaN  ... -0.010988  0.160526\n",
              "...                             ...     ...  ...       ...       ...\n",
              "Q037                      -0.004914     NaN  ...  0.270380  0.187921\n",
              "Q038                       0.003906     NaN  ...  0.259947  0.219529\n",
              "Q039                       0.001002     NaN  ...  0.305357  0.262031\n",
              "Q040                      -0.010967     NaN  ...  1.000000  0.306438\n",
              "Q041                      -0.029937     NaN  ...  0.306438  1.000000\n",
              "\n",
              "[107 rows x 107 columns]"
            ]
          },
          "metadata": {
            "tags": []
          },
          "execution_count": 8
        }
      ]
    },
    {
      "cell_type": "markdown",
      "metadata": {
        "id": "OTjhG8MKkKiN",
        "colab_type": "text"
      },
      "source": [
        "Verificando as distribuições"
      ]
    },
    {
      "cell_type": "code",
      "metadata": {
        "id": "KmGBXyOFkJh6",
        "colab_type": "code",
        "colab": {}
      },
      "source": [
        "import matplotlib.pyplot as plt"
      ],
      "execution_count": 0,
      "outputs": []
    },
    {
      "cell_type": "code",
      "metadata": {
        "id": "EPW1eeeNkTzt",
        "colab_type": "code",
        "outputId": "6f39f1dc-b162-4ee3-b9a8-f52994eb3918",
        "colab": {
          "base_uri": "https://localhost:8080/",
          "height": 71
        }
      },
      "source": [
        "import seaborn as sns"
      ],
      "execution_count": 0,
      "outputs": [
        {
          "output_type": "stream",
          "text": [
            "/usr/local/lib/python3.6/dist-packages/statsmodels/tools/_testing.py:19: FutureWarning: pandas.util.testing is deprecated. Use the functions in the public API at pandas.testing instead.\n",
            "  import pandas.util.testing as tm\n"
          ],
          "name": "stderr"
        }
      ]
    },
    {
      "cell_type": "code",
      "metadata": {
        "id": "zeCkv17Lkb-k",
        "colab_type": "code",
        "colab": {}
      },
      "source": [
        "plt.style.use('ggplot')"
      ],
      "execution_count": 0,
      "outputs": []
    },
    {
      "cell_type": "code",
      "metadata": {
        "id": "qAzLe1_Tkjdk",
        "colab_type": "code",
        "colab": {}
      },
      "source": [
        "%matplotlib inline"
      ],
      "execution_count": 0,
      "outputs": []
    },
    {
      "cell_type": "code",
      "metadata": {
        "id": "czh-XDLIkpCs",
        "colab_type": "code",
        "colab": {}
      },
      "source": [
        "features = [\n",
        "    'NU_NOTA_CN',\n",
        "    'NU_NOTA_CH',\n",
        "    'NU_NOTA_LC',\n",
        "    'NU_NOTA_REDACAO',\n",
        "    'NU_NOTA_COMP1',\n",
        "    'NU_NOTA_COMP2',\n",
        "    'NU_NOTA_COMP3',\n",
        "    'NU_NOTA_COMP4',\n",
        "    'NU_NOTA_COMP5']"
      ],
      "execution_count": 0,
      "outputs": []
    },
    {
      "cell_type": "code",
      "metadata": {
        "id": "N0FNpVIylH2t",
        "colab_type": "code",
        "colab": {}
      },
      "source": [
        "featuresCorr = [\n",
        "    'NU_NOTA_MT',\n",
        "    'NU_NOTA_CN',\n",
        "    'NU_NOTA_CH',\n",
        "    'NU_NOTA_LC',\n",
        "    'NU_NOTA_REDACAO',\n",
        "    'NU_NOTA_COMP1',\n",
        "    'NU_NOTA_COMP2',\n",
        "    'NU_NOTA_COMP3',\n",
        "    'NU_NOTA_COMP4',\n",
        "    'NU_NOTA_COMP5']"
      ],
      "execution_count": 0,
      "outputs": []
    },
    {
      "cell_type": "code",
      "metadata": {
        "id": "ml1GQRZ_lVMk",
        "colab_type": "code",
        "outputId": "2d555b72-3f13-47a2-8255-5cbc74e0fc48",
        "colab": {
          "base_uri": "https://localhost:8080/",
          "height": 187
        }
      },
      "source": [
        "train[features].isnull().sum() #Verificação de nulos"
      ],
      "execution_count": 0,
      "outputs": [
        {
          "output_type": "execute_result",
          "data": {
            "text/plain": [
              "NU_NOTA_CN         3389\n",
              "NU_NOTA_CH         3389\n",
              "NU_NOTA_LC         3597\n",
              "NU_NOTA_REDACAO    3597\n",
              "NU_NOTA_COMP1      3597\n",
              "NU_NOTA_COMP2      3597\n",
              "NU_NOTA_COMP3      3597\n",
              "NU_NOTA_COMP4      3597\n",
              "NU_NOTA_COMP5      3597\n",
              "dtype: int64"
            ]
          },
          "metadata": {
            "tags": []
          },
          "execution_count": 15
        }
      ]
    },
    {
      "cell_type": "code",
      "metadata": {
        "id": "g5-m4W9zlc77",
        "colab_type": "code",
        "colab": {}
      },
      "source": [
        "correlation = train[featuresCorr].corr()"
      ],
      "execution_count": 0,
      "outputs": []
    },
    {
      "cell_type": "code",
      "metadata": {
        "id": "Ie7B0sNZllA9",
        "colab_type": "code",
        "outputId": "b763947c-af3c-4606-b284-fb406596d2e4",
        "colab": {
          "base_uri": "https://localhost:8080/",
          "height": 595
        }
      },
      "source": [
        "xaxis = plt.subplots(figsize=(11,8))\n",
        "sns.heatmap(correlation, annot=True, annot_kws={\"size\": 11}, cmap= 'Greens')\n"
      ],
      "execution_count": 0,
      "outputs": [
        {
          "output_type": "execute_result",
          "data": {
            "text/plain": [
              "<matplotlib.axes._subplots.AxesSubplot at 0x7fb55932ce10>"
            ]
          },
          "metadata": {
            "tags": []
          },
          "execution_count": 17
        },
        {
          "output_type": "display_data",
          "data": {
            "image/png": "[encoded data removed]",
            "text/plain": [
              "<Figure size 792x576 with 2 Axes>"
            ]
          },
          "metadata": {
            "tags": []
          }
        }
      ]
    },
    {
      "cell_type": "markdown",
      "metadata": {
        "id": "HWuqvWtGoRRo",
        "colab_type": "text"
      },
      "source": [
        "#Gráficos de distribuição de dados"
      ]
    },
    {
      "cell_type": "code",
      "metadata": {
        "id": "WdlhZ3ozowne",
        "colab_type": "code",
        "outputId": "b2e1093f-0308-436d-f283-021ae184cd0b",
        "colab": {
          "base_uri": "https://localhost:8080/",
          "height": 282
        }
      },
      "source": [
        "x0 = train['NU_NOTA_CN'].fillna(0)\n",
        "x1 = test['NU_NOTA_CN'].fillna(0)\n",
        "\n",
        "sns.distplot(x0)\n",
        "sns.distplot(x1)\n",
        "plt.legend(labels=['TRAIN', 'TEST'], ncol=2, loc='upper left');\n",
        "\n"
      ],
      "execution_count": 0,
      "outputs": [
        {
          "output_type": "display_data",
          "data": {
            "image/png": "[encoded data removed]",
            "text/plain": [
              "<Figure size 432x288 with 1 Axes>"
            ]
          },
          "metadata": {
            "tags": []
          }
        }
      ]
    },
    {
      "cell_type": "code",
      "metadata": {
        "id": "p400OdSMquC-",
        "colab_type": "code",
        "outputId": "dd09c3e4-6eed-4c82-d455-9953723ecd59",
        "colab": {
          "base_uri": "https://localhost:8080/",
          "height": 282
        }
      },
      "source": [
        "x2 = train['NU_NOTA_CH'].fillna(0)\n",
        "x3 = test['NU_NOTA_CH'].fillna(0)\n",
        "\n",
        "sns.distplot(x2)\n",
        "sns.distplot(x3)\n",
        "plt.legend(labels=['TRAIN', 'TEST'], ncol=2, loc='upper left');"
      ],
      "execution_count": 0,
      "outputs": [
        {
          "output_type": "display_data",
          "data": {
            "image/png": "[encoded data removed]",
            "text/plain": [
              "<Figure size 432x288 with 1 Axes>"
            ]
          },
          "metadata": {
            "tags": []
          }
        }
      ]
    },
    {
      "cell_type": "code",
      "metadata": {
        "id": "gZrqWbq_q0VT",
        "colab_type": "code",
        "outputId": "46157f65-4d99-40c7-fc8a-eff25aecd2fc",
        "colab": {
          "base_uri": "https://localhost:8080/",
          "height": 282
        }
      },
      "source": [
        "x4 = train['NU_NOTA_LC'].fillna(0)\n",
        "x5 = test['NU_NOTA_LC'].fillna(0)\n",
        "\n",
        "sns.distplot(x4)\n",
        "sns.distplot(x5)\n",
        "plt.legend(labels=['TRAIN', 'TEST'], ncol=2, loc='upper left');"
      ],
      "execution_count": 0,
      "outputs": [
        {
          "output_type": "display_data",
          "data": {
            "image/png": "[encoded data removed]",
            "text/plain": [
              "<Figure size 432x288 with 1 Axes>"
            ]
          },
          "metadata": {
            "tags": []
          }
        }
      ]
    },
    {
      "cell_type": "markdown",
      "metadata": {
        "id": "eqWX5xeari0X",
        "colab_type": "text"
      },
      "source": [
        "Nos gráficos acima grande parte das notas foram zeradas, pois valores (null == 0)\n",
        "Procedimento para tratar esses zeros: remoção do dataset de treino desses valores para que o modelo treinado siga uma distribuição \"normal\".\n",
        "Nota da Redação: Valor 0 quando não se atinge o critério"
      ]
    },
    {
      "cell_type": "code",
      "metadata": {
        "id": "-6dY3vPksFiL",
        "colab_type": "code",
        "colab": {}
      },
      "source": [
        "train = train.loc[(train['NU_NOTA_CN'].notnull()) & (train['NU_NOTA_CN']!=0) & \n",
        "                  (train['NU_NOTA_CH'].notnull()) & (train['NU_NOTA_CH']!=0) & \n",
        "                  (train['NU_NOTA_LC'].notnull())&(train['NU_NOTA_LC']!=0) & \n",
        "                  (train['NU_NOTA_REDACAO'].notnull()) & (train['NU_NOTA_REDACAO']!=0)]"
      ],
      "execution_count": 0,
      "outputs": []
    },
    {
      "cell_type": "code",
      "metadata": {
        "id": "54V2Z7lXwpdr",
        "colab_type": "code",
        "outputId": "6d2f4f5e-51f8-4f88-e64d-edd6828e0451",
        "colab": {
          "base_uri": "https://localhost:8080/",
          "height": 187
        }
      },
      "source": [
        "train[features].isnull().sum()"
      ],
      "execution_count": 0,
      "outputs": [
        {
          "output_type": "execute_result",
          "data": {
            "text/plain": [
              "NU_NOTA_CN         0\n",
              "NU_NOTA_CH         0\n",
              "NU_NOTA_LC         0\n",
              "NU_NOTA_REDACAO    0\n",
              "NU_NOTA_COMP1      0\n",
              "NU_NOTA_COMP2      0\n",
              "NU_NOTA_COMP3      0\n",
              "NU_NOTA_COMP4      0\n",
              "NU_NOTA_COMP5      0\n",
              "dtype: int64"
            ]
          },
          "metadata": {
            "tags": []
          },
          "execution_count": 22
        }
      ]
    },
    {
      "cell_type": "code",
      "metadata": {
        "id": "h1bOZx8O3-66",
        "colab_type": "code",
        "outputId": "307f6def-ded1-49c3-c87e-1b8c383b93b3",
        "colab": {
          "base_uri": "https://localhost:8080/",
          "height": 282
        }
      },
      "source": [
        "x0 = train['NU_NOTA_CN'].fillna(0)\n",
        "x1 = test['NU_NOTA_CN'].fillna(0)\n",
        "\n",
        "sns.distplot(x0)\n",
        "sns.distplot(x1)\n",
        "plt.legend(labels=['TRAIN', 'TEST'], ncol=2, loc='upper left');"
      ],
      "execution_count": 0,
      "outputs": [
        {
          "output_type": "display_data",
          "data": {
            "image/png": "[encoded data removed]",
            "text/plain": [
              "<Figure size 432x288 with 1 Axes>"
            ]
          },
          "metadata": {
            "tags": []
          }
        }
      ]
    },
    {
      "cell_type": "code",
      "metadata": {
        "id": "pSalfd5WDjow",
        "colab_type": "code",
        "outputId": "46e7c63a-2165-4f2c-ac30-065decf79384",
        "colab": {
          "base_uri": "https://localhost:8080/",
          "height": 284
        }
      },
      "source": [
        "x2 = train['NU_NOTA_CH'].fillna(0)\n",
        "x3 = test['NU_NOTA_CH'].fillna(0)\n",
        "\n",
        "sns.distplot(x2)\n",
        "sns.distplot(x3)\n",
        "plt.legend(labels=['TRAIN', 'TEST'], ncol=2, loc='upper left');"
      ],
      "execution_count": 0,
      "outputs": [
        {
          "output_type": "display_data",
          "data": {
            "image/png": "[encoded data removed]",
            "text/plain": [
              "<Figure size 432x288 with 1 Axes>"
            ]
          },
          "metadata": {
            "tags": []
          }
        }
      ]
    },
    {
      "cell_type": "code",
      "metadata": {
        "id": "1I1FxofGDtgW",
        "colab_type": "code",
        "colab": {}
      },
      "source": [
        ""
      ],
      "execution_count": 0,
      "outputs": []
    },
    {
      "cell_type": "code",
      "metadata": {
        "colab_type": "code",
        "outputId": "0eb87ea8-6cbf-4880-dd09-0b05202ed6fd",
        "id": "Di4dN3T-Dt1t",
        "colab": {
          "base_uri": "https://localhost:8080/",
          "height": 282
        }
      },
      "source": [
        "x4 = train['NU_NOTA_LC'].fillna(0)\n",
        "x5 = test['NU_NOTA_LC'].fillna(0)\n",
        "\n",
        "sns.distplot(x4)\n",
        "sns.distplot(x5)\n",
        "plt.legend(labels=['TRAIN', 'TEST'], ncol=2, loc='upper left');"
      ],
      "execution_count": 0,
      "outputs": [
        {
          "output_type": "display_data",
          "data": {
            "image/png": "[encoded data removed]",
            "text/plain": [
              "<Figure size 432x288 with 1 Axes>"
            ]
          },
          "metadata": {
            "tags": []
          }
        }
      ]
    },
    {
      "cell_type": "markdown",
      "metadata": {
        "id": "Vx1D58G-EQk5",
        "colab_type": "text"
      },
      "source": [
        "Prova do Enem: 2 dias\n",
        "\n",
        "\n",
        "*   Dia 1:Linguagens e Códigos e Matemática\n",
        "*   Dia 2: Ciências Humanas e Ciências da Natureza\n",
        "\n",
        "Logo Lingugens e Códigos, Redação e Matemática. Se pegarmos a variável **TP_PRESENCA_LC** e se o aluno não esteve presente na prova de Linguagens e Códigos ele tirou 0 na Prova de Matemática. \n",
        "\n",
        "\n"
      ]
    },
    {
      "cell_type": "markdown",
      "metadata": {
        "id": "Fg2p0Ll1HHl1",
        "colab_type": "text"
      },
      "source": [
        "Selecionando valores diferentes de 0 e não nulos na base de test"
      ]
    },
    {
      "cell_type": "code",
      "metadata": {
        "colab_type": "code",
        "id": "M65vpvHwHRid",
        "colab": {}
      },
      "source": [
        "test= test.loc[(test['NU_NOTA_CN'].notnull()) & (test['NU_NOTA_CN']!=0) & \n",
        "                  (test['NU_NOTA_CH'].notnull()) & (test['NU_NOTA_CH']!=0) & \n",
        "                  (test['NU_NOTA_LC'].notnull())&(test['NU_NOTA_LC']!=0) & \n",
        "                  (test['NU_NOTA_REDACAO'].notnull()) & (test['NU_NOTA_REDACAO']!=0)]"
      ],
      "execution_count": 0,
      "outputs": []
    },
    {
      "cell_type": "code",
      "metadata": {
        "id": "57wp2b3rH5cQ",
        "colab_type": "code",
        "outputId": "53889ca1-9cac-470d-b46f-7b53de37e846",
        "colab": {
          "base_uri": "https://localhost:8080/",
          "height": 187
        }
      },
      "source": [
        "test[features].isnull().sum()"
      ],
      "execution_count": 0,
      "outputs": [
        {
          "output_type": "execute_result",
          "data": {
            "text/plain": [
              "NU_NOTA_CN         0\n",
              "NU_NOTA_CH         0\n",
              "NU_NOTA_LC         0\n",
              "NU_NOTA_REDACAO    0\n",
              "NU_NOTA_COMP1      0\n",
              "NU_NOTA_COMP2      0\n",
              "NU_NOTA_COMP3      0\n",
              "NU_NOTA_COMP4      0\n",
              "NU_NOTA_COMP5      0\n",
              "dtype: int64"
            ]
          },
          "metadata": {
            "tags": []
          },
          "execution_count": 27
        }
      ]
    },
    {
      "cell_type": "markdown",
      "metadata": {
        "id": "YNd0Tp1lI-z1",
        "colab_type": "text"
      },
      "source": [
        "**Construção dos Gráficos**"
      ]
    },
    {
      "cell_type": "code",
      "metadata": {
        "colab_type": "code",
        "outputId": "6a54b48a-c70b-4af5-d18a-ae17c4337025",
        "id": "2u7crN3UJ9Rr",
        "colab": {
          "base_uri": "https://localhost:8080/",
          "height": 282
        }
      },
      "source": [
        "x0 = train['NU_NOTA_CN'].fillna(0)\n",
        "x1 = test['NU_NOTA_CN'].fillna(0)\n",
        "\n",
        "sns.distplot(x0)\n",
        "sns.distplot(x1)\n",
        "plt.legend(labels=['TRAIN', 'TEST'], ncol=2, loc='upper left');"
      ],
      "execution_count": 0,
      "outputs": [
        {
          "output_type": "display_data",
          "data": {
            "image/png": "[encoded data removed]",
            "text/plain": [
              "<Figure size 432x288 with 1 Axes>"
            ]
          },
          "metadata": {
            "tags": []
          }
        }
      ]
    },
    {
      "cell_type": "code",
      "metadata": {
        "colab_type": "code",
        "outputId": "b361672f-e95a-4586-9266-25bbcdf17694",
        "id": "vZnDshyzKEs5",
        "colab": {
          "base_uri": "https://localhost:8080/",
          "height": 282
        }
      },
      "source": [
        "x2 = train['NU_NOTA_CH'].fillna(0)\n",
        "x3 = test['NU_NOTA_CH'].fillna(0)\n",
        "\n",
        "sns.distplot(x2)\n",
        "sns.distplot(x3)\n",
        "plt.legend(labels=['TRAIN', 'TEST'], ncol=2, loc='upper left');"
      ],
      "execution_count": 0,
      "outputs": [
        {
          "output_type": "display_data",
          "data": {
            "image/png": "[encoded data removed]",
            "text/plain": [
              "<Figure size 432x288 with 1 Axes>"
            ]
          },
          "metadata": {
            "tags": []
          }
        }
      ]
    },
    {
      "cell_type": "code",
      "metadata": {
        "colab_type": "code",
        "outputId": "42fd2585-9fca-4cc4-9b0c-5c77de168b7a",
        "id": "FkMMSjdeKaOm",
        "colab": {
          "base_uri": "https://localhost:8080/",
          "height": 282
        }
      },
      "source": [
        "x4 = train['NU_NOTA_LC'].fillna(0)\n",
        "x5 = test['NU_NOTA_LC'].fillna(0)\n",
        "\n",
        "sns.distplot(x4)\n",
        "sns.distplot(x5)\n",
        "plt.legend(labels=['TRAIN', 'TEST'], ncol=2, loc='upper left');"
      ],
      "execution_count": 0,
      "outputs": [
        {
          "output_type": "display_data",
          "data": {
            "image/png": "[encoded data removed]",
            "text/plain": [
              "<Figure size 432x288 with 1 Axes>"
            ]
          },
          "metadata": {
            "tags": []
          }
        }
      ]
    },
    {
      "cell_type": "markdown",
      "metadata": {
        "id": "sKah3t-UQDMW",
        "colab_type": "text"
      },
      "source": [
        "A tratativa realizada acima deixa os dados mais homogêneos"
      ]
    },
    {
      "cell_type": "markdown",
      "metadata": {
        "id": "9gcjBfo_RLup",
        "colab_type": "text"
      },
      "source": [
        "**Criando Modelo de Regressão**"
      ]
    },
    {
      "cell_type": "markdown",
      "metadata": {
        "id": "M3tLX-iEYSJk",
        "colab_type": "text"
      },
      "source": [
        "Setando em 0 os campos nulos da Redação"
      ]
    },
    {
      "cell_type": "code",
      "metadata": {
        "id": "w5IHinq3P_uc",
        "colab_type": "code",
        "colab": {}
      },
      "source": [
        "test['NU_NOTA_COMP1'].fillna(0,inplace=True)\n",
        "test['NU_NOTA_COMP2'].fillna(0,inplace=True)\n",
        "test['NU_NOTA_COMP3'].fillna(0,inplace=True)\n",
        "test['NU_NOTA_COMP4'].fillna(0,inplace=True)\n",
        "test['NU_NOTA_COMP5'].fillna(0,inplace=True)\n",
        "\n",
        "train['NU_NOTA_COMP1'].fillna(0,inplace=True)\n",
        "train['NU_NOTA_COMP2'].fillna(0,inplace=True)\n",
        "train['NU_NOTA_COMP3'].fillna(0,inplace=True)\n",
        "train['NU_NOTA_COMP4'].fillna(0,inplace=True)\n",
        "train['NU_NOTA_COMP5'].fillna(0,inplace=True)"
      ],
      "execution_count": 0,
      "outputs": []
    },
    {
      "cell_type": "markdown",
      "metadata": {
        "id": "VkBvI7nMaNrm",
        "colab_type": "text"
      },
      "source": [
        "\n",
        "*   Atribuindo **yTrain**.\n",
        "*   Setar **xTrain** e **xTest** com features selecionadas\n",
        "*   Normalização dos dados\n",
        "\n",
        "\n",
        "\n",
        "\n",
        "\n"
      ]
    },
    {
      "cell_type": "code",
      "metadata": {
        "id": "IAFNlCT5YOjp",
        "colab_type": "code",
        "colab": {}
      },
      "source": [
        "yTrain = train['NU_NOTA_MT']\n",
        "xTrain = train[features]\n",
        "xTest = test[features]\n",
        "\n",
        "from sklearn.preprocessing import StandardScaler\n",
        "sc = StandardScaler()\n",
        "xTrain = sc.fit_transform(xTrain)\n",
        "xTest = sc.transform(xTest)"
      ],
      "execution_count": 0,
      "outputs": []
    },
    {
      "cell_type": "markdown",
      "metadata": {
        "id": "bC6PQUDxbnvC",
        "colab_type": "text"
      },
      "source": [
        "**Modelo: RandomForestRegressor**"
      ]
    },
    {
      "cell_type": "code",
      "metadata": {
        "id": "IHMAK14sbkJD",
        "colab_type": "code",
        "colab": {}
      },
      "source": [
        "from sklearn.ensemble import RandomForestRegressor\n",
        "regressor = RandomForestRegressor(\n",
        "     criterion='mae',\n",
        "     max_leaf_nodes=None,\n",
        "     min_impurity_split=None,\n",
        "     min_samples_leaf=1,\n",
        "     min_samples_split=2,\n",
        "     min_weight_fraction_leaf=0.0,\n",
        "     n_estimators= 500,\n",
        "     n_jobs=-1,\n",
        "     random_state=0,\n",
        "     verbose=0,\n",
        "     warm_start=False\n",
        ")\n"
      ],
      "execution_count": 0,
      "outputs": []
    },
    {
      "cell_type": "code",
      "metadata": {
        "id": "WsLx1xH_ezVY",
        "colab_type": "code",
        "outputId": "4655bb6b-2035-45d4-d7ab-da92cc27fcc3",
        "colab": {
          "base_uri": "https://localhost:8080/",
          "height": 136
        }
      },
      "source": [
        "regressor.fit(xTrain, yTrain)"
      ],
      "execution_count": 0,
      "outputs": [
        {
          "output_type": "execute_result",
          "data": {
            "text/plain": [
              "RandomForestRegressor(bootstrap=True, ccp_alpha=0.0, criterion='mae',\n",
              "                      max_depth=None, max_features='auto', max_leaf_nodes=None,\n",
              "                      max_samples=None, min_impurity_decrease=0.0,\n",
              "                      min_impurity_split=None, min_samples_leaf=1,\n",
              "                      min_samples_split=2, min_weight_fraction_leaf=0.0,\n",
              "                      n_estimators=500, n_jobs=-1, oob_score=False,\n",
              "                      random_state=0, verbose=0, warm_start=False)"
            ]
          },
          "metadata": {
            "tags": []
          },
          "execution_count": 34
        }
      ]
    },
    {
      "cell_type": "code",
      "metadata": {
        "id": "FFofLg3hhs_U",
        "colab_type": "code",
        "colab": {}
      },
      "source": [
        "yPredTest = regressor.predict(xTest)\n",
        "#yPredTrain = regressor.predict(xTrain)"
      ],
      "execution_count": 0,
      "outputs": []
    },
    {
      "cell_type": "code",
      "metadata": {
        "id": "50772gr7tqLE",
        "colab_type": "code",
        "outputId": "6f031ac7-d09c-4b44-a4e4-e62caa380925",
        "colab": {
          "base_uri": "https://localhost:8080/",
          "height": 34
        }
      },
      "source": [
        "print(yPredTest)"
      ],
      "execution_count": 0,
      "outputs": [
        {
          "output_type": "stream",
          "text": [
            "[443.108  443.6941 582.3845 ... 485.2814 705.8648 478.6562]\n"
          ],
          "name": "stdout"
        }
      ]
    },
    {
      "cell_type": "code",
      "metadata": {
        "id": "I15jCTmwg-7T",
        "colab_type": "code",
        "outputId": "18bd0db1-8b1e-4ad8-cd25-dd70757335ad",
        "colab": {
          "base_uri": "https://localhost:8080/",
          "height": 221
        }
      },
      "source": [
        "print(test['NU_INSCRICAO'])"
      ],
      "execution_count": 0,
      "outputs": [
        {
          "output_type": "stream",
          "text": [
            "0       73ff9fcc02f0a99919906c942c2e1a1042cdcf98\n",
            "1       71a95f9f1b91a82c65ad94abbdf9f54e6066f968\n",
            "2       b38a03232f43b11c9d0788abaf060f7366053b6d\n",
            "4       715494628a50142ce8cb17191cfe6d0f3cae0934\n",
            "5       e656d6bad65c93fb2880f1eba5037008c8e75774\n",
            "                          ...                   \n",
            "4570    13aaf6335f43cfc1b8baeac559324f20b2653724\n",
            "4571    dac0f22429c7f8e3931d0abaf5dfc8e5c772a48b\n",
            "4572    a75fa8770257e7c9368d059fe53d9ef431f4bdef\n",
            "4573    655fa6306720ff16e825903b5422a46608a77545\n",
            "4574    1f4bc3e3d56212d500625bfe8ac78ccff4362293\n",
            "Name: NU_INSCRICAO, Length: 3286, dtype: object\n"
          ],
          "name": "stdout"
        }
      ]
    },
    {
      "cell_type": "code",
      "metadata": {
        "id": "k-Gvkplx0uLD",
        "colab_type": "code",
        "colab": {}
      },
      "source": [
        "df_resposta=pd.DataFrame()"
      ],
      "execution_count": 0,
      "outputs": []
    },
    {
      "cell_type": "code",
      "metadata": {
        "id": "SHlLUtzCzIFS",
        "colab_type": "code",
        "colab": {}
      },
      "source": [
        "df_resposta['NU_NOTA_MT'] = np.around(yPredTest,2)\n"
      ],
      "execution_count": 0,
      "outputs": []
    },
    {
      "cell_type": "code",
      "metadata": {
        "id": "qffklO7HziNj",
        "colab_type": "code",
        "colab": {}
      },
      "source": [
        "from functools import reduce"
      ],
      "execution_count": 0,
      "outputs": []
    },
    {
      "cell_type": "code",
      "metadata": {
        "id": "5FZzX40B647e",
        "colab_type": "code",
        "outputId": "3c2e9451-4a57-4835-ac72-df021f47ab77",
        "colab": {
          "base_uri": "https://localhost:8080/",
          "height": 146
        }
      },
      "source": [
        "dfs = [df_resposta, test['NU_INSCRICAO']]\n",
        "\n",
        "def my_merge(test['NU_INSCRICAO'], df_resposta):\n",
        "res = pd.merge(test['NU_INSCRICAO'], df_resposta, how=\"outer\", left_index=True, right_index=True)\n"
      ],
      "execution_count": 0,
      "outputs": [
        {
          "output_type": "error",
          "ename": "SyntaxError",
          "evalue": "ignored",
          "traceback": [
            "\u001b[0;36m  File \u001b[0;32m\"<ipython-input-41-1fb45fc783e7>\"\u001b[0;36m, line \u001b[0;32m3\u001b[0m\n\u001b[0;31m    def my_merge(test['NU_INSCRICAO'], df_resposta):\u001b[0m\n\u001b[0m                     ^\u001b[0m\n\u001b[0;31mSyntaxError\u001b[0m\u001b[0;31m:\u001b[0m invalid syntax\n"
          ]
        },
        {
          "output_type": "stream",
          "text": [
            "ERROR! Session/line number was not unique in database. History logging moved to new session 65\n"
          ],
          "name": "stdout"
        }
      ]
    }
  ]
}